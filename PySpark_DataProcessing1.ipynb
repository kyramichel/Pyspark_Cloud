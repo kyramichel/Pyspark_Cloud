{
  "nbformat": 4,
  "nbformat_minor": 0,
  "metadata": {
    "accelerator": "GPU",
    "colab": {
      "name": "PySpark_DataProcessing1.ipynb",
      "provenance": [],
      "collapsed_sections": [],
      "toc_visible": true
    },
    "kernelspec": {
      "display_name": "Python 3",
      "language": "python",
      "name": "python3"
    },
    "language_info": {
      "codemirror_mode": {
        "name": "ipython",
        "version": 3
      },
      "file_extension": ".py",
      "mimetype": "text/x-python",
      "name": "python",
      "nbconvert_exporter": "python",
      "pygments_lexer": "ipython3",
      "version": "3.8.3"
    }
  },
  "cells": [
    {
      "cell_type": "markdown",
      "metadata": {
        "id": "_GXdXdKt7bJH"
      },
      "source": [
        "#  **Big Data Processing in Spark**\r\n",
        "\r\n",
        "In my earlier 3 notebooks, I discussed in detail about installing Spark fast, uploading data in Colab and data cleasing.\r\n",
        "\r\n",
        "This notebook focuses on Data Processing as a way to get useful information from data.\r\n",
        "\r\n"
      ]
    },
    {
      "cell_type": "markdown",
      "metadata": {
        "id": "ib7UCnGX6-z2"
      },
      "source": [
        "## PART 1. Configure PySpark environment\n",
        "\n",
        "Copy & Paste code below. \n",
        "\n",
        "Read more https://github.com/kyramichel/Spark/blob/master/PySpark_GoogleColab.ipynb"
      ]
    },
    {
      "cell_type": "code",
      "metadata": {
        "id": "AdSQHcj0OI6Q",
        "colab": {
          "base_uri": "https://localhost:8080/"
        },
        "outputId": "30fa48f5-c8ab-429a-b762-1a640e2a2bf2"
      },
      "source": [
        "#update the packages existing on the machine\n",
        "!apt-get update\n",
        "\n",
        "#install java \n",
        "!apt-get install openjdk-8-jdk-headless -qq > /dev/null\n",
        "\n",
        "\n",
        "#install spark: get the file\n",
        "!wget -q https://archive.apache.org/dist/spark/spark-2.4.1/spark-2.4.1-bin-hadoop2.7.tgz\n",
        "    \n",
        "#unzip the file\n",
        "!tar xf spark-2.4.1-bin-hadoop2.7.tgz\n",
        "\n",
        "#set up the ennvironmental variables\n",
        "import os\n",
        "os.environ[\"JAVA_HOME\"] = \"/usr/lib/jvm/java-8-openjdk-amd64\"\n",
        "os.environ[\"SPARK_HOME\"] = \"/content/spark-2.3.2-bin-hadoop2.7\"\n",
        "\n",
        "#install finspark  \n",
        "!pip install -q findspark\n",
        "\n",
        "#importing findspark adds pyspark to the system path, so that next time you can import pyspark like any other python library\n",
        "import findspark\n",
        "findspark.init(\"/content/spark-2.4.1-bin-hadoop2.7\")\n",
        "\n",
        "import pyspark\n",
        "\n",
        "#SparkContext: the entry point of spark functionality is the interface to running a spark cluster manager\n",
        "from pyspark import SparkContext, SparkConf\n",
        "\n",
        "\n",
        "#import a spark session\n",
        "from pyspark.sql import SparkSession\n",
        "#create a session\n",
        "spark = SparkSession.builder.getOrCreate()\n",
        "spark\n",
        "\n",
        "#test the installation\n",
        "df0 = spark.sql(\"select 'PySpark' as Hello\")\n",
        "df0.show()"
      ],
      "execution_count": 117,
      "outputs": [
        {
          "output_type": "stream",
          "text": [
            "Get:1 http://security.ubuntu.com/ubuntu bionic-security InRelease [88.7 kB]\n",
            "Hit:2 http://ppa.launchpad.net/c2d4u.team/c2d4u4.0+/ubuntu bionic InRelease\n",
            "Get:3 https://cloud.r-project.org/bin/linux/ubuntu bionic-cran40/ InRelease [3,626 B]\n",
            "Hit:4 http://archive.ubuntu.com/ubuntu bionic InRelease\n",
            "Ign:5 https://developer.download.nvidia.com/compute/cuda/repos/ubuntu1804/x86_64  InRelease\n",
            "Get:6 http://archive.ubuntu.com/ubuntu bionic-updates InRelease [88.7 kB]\n",
            "Ign:7 https://developer.download.nvidia.com/compute/machine-learning/repos/ubuntu1804/x86_64  InRelease\n",
            "Hit:8 https://developer.download.nvidia.com/compute/cuda/repos/ubuntu1804/x86_64  Release\n",
            "Hit:9 https://developer.download.nvidia.com/compute/machine-learning/repos/ubuntu1804/x86_64  Release\n",
            "Hit:10 http://ppa.launchpad.net/cran/libgit2/ubuntu bionic InRelease\n",
            "Hit:11 http://ppa.launchpad.net/deadsnakes/ppa/ubuntu bionic InRelease\n",
            "Get:12 http://archive.ubuntu.com/ubuntu bionic-backports InRelease [74.6 kB]\n",
            "Hit:13 http://ppa.launchpad.net/graphics-drivers/ppa/ubuntu bionic InRelease\n",
            "Fetched 256 kB in 2s (147 kB/s)\n",
            "Reading package lists... Done\n",
            "+-------+\n",
            "|  Hello|\n",
            "+-------+\n",
            "|PySpark|\n",
            "+-------+\n",
            "\n"
          ],
          "name": "stdout"
        }
      ]
    },
    {
      "cell_type": "markdown",
      "metadata": {
        "id": "MP2pY0E03QYX"
      },
      "source": [
        "# PART 2. Data Processing\r\n",
        "\r\n",
        "Exploratory data analysis (EDA) involves handling nulls, changing data types, shape, summary statistics, data transformation, etc. \r\n",
        "\r\n",
        "Let's get deeper in data processing and query data in Spark using both Python and SQL.\r\n",
        "\r\n",
        "First, click on File panel, then upload and select your data file to upload it in Colab. More on how to get data in Colab @ https://github.com/kyramichel/Spark/blob/master/DataPysparkCloudColab.ipynb\r\n"
      ]
    },
    {
      "cell_type": "code",
      "metadata": {
        "colab": {
          "base_uri": "https://localhost:8080/"
        },
        "id": "CgtlPLdP-mlo",
        "outputId": "0ced0f39-0435-47eb-d4af-33b584d69a46"
      },
      "source": [
        "#Loading the data; param inferSchema=True enables automatic detection of underlying schema\r\n",
        "data = spark.read.csv('data2.csv', header=True, inferSchema=True)\r\n",
        "data.show()"
      ],
      "execution_count": 55,
      "outputs": [
        {
          "output_type": "stream",
          "text": [
            "+---+--------+-----+-----------------+--------------+-----+-------------+--------+----------+------+\n",
            "| id| Product|Price|             Name|          City|State|      Country|Latitude| Longitude|US Zip|\n",
            "+---+--------+-----+-----------------+--------------+-----+-------------+--------+----------+------+\n",
            "|  1|Product1| 1200|           Betina|     Parkville|   MO|United States|  39.195| -94.68194| 64152|\n",
            "|  2|Product1| 1200|Federica e Andrea|       Astoria|   OR|United States|46.18806|   -123.83| 97103|\n",
            "|  3|Product2| 3600|           Gerd W|Cahaba Heights|   AL|United States|33.52056|  -86.8025| 35243|\n",
            "|  4|Product1| 1200|         LAURENCE|     Mickleton|   NJ|United States|   39.79| -75.23806|  8056|\n",
            "|  5|Product1| 1200|            Fleur|        Peoria|   IL|United States|40.69361| -89.58889| 61601|\n",
            "|  6|Product1| 1200|             adam|        Martin|   TN|United States|36.34333| -88.85028| 38237|\n",
            "|  7|Product1| 1200|            Stacy|      New York|   NY|United States|40.71417| -74.00639| 10002|\n",
            "|  8|Product1| 1200|             Sean|  Shavano Park|   TX|United States|29.42389| -98.49333| 78230|\n",
            "|  9|Product1| 1200|          Georgia|         Eagle|   ID|United States|43.69556|-116.35306| 83616|\n",
            "| 10|Product1| 1200|          Richard|     Riverside|   NJ|United States|40.03222| -74.95778|  8075|\n",
            "| 11|Product1| 1200|             Hani|Salt Lake City|   UT|United States|40.76083|-111.89028| 84111|\n",
            "| 12|Product1| 1200|           asuman|   Chula Vista|   CA|United States|   32.64|-117.08333| 91910|\n",
            "| 13|Product1| 1200|             Lisa|    Sugar Land|   TX|United States|29.61944| -95.63472| 77478|\n",
            "| 14|Product1| 1200|    Bryan Kerrene|      New York|   NY|United States|40.71417| -74.00639| 10007|\n",
            "| 15|Product1| 1200|           Maxine|        Morton|   IL|United States|40.61278| -89.45917| 61550|\n",
            "| 16|Product1| 1200|           Family|     Los Gatos|   CA|United States|37.22667|-121.97361| 95032|\n",
            "| 17|Product1| 1200|        Katherine|      New York|   NY|United States|40.71417| -74.00639| 10007|\n",
            "| 18|Product1| 1200|            Linda|         Miami|   FL|United States|25.77389| -80.19389| 33130|\n",
            "| 19|Product1| 1200|           Sheila|      Brooklyn|   NY|United States|   40.65|    -73.95| 11226|\n",
            "| 20|Product1| 1200|            Kelly|        Reston|   VA|United States|38.96861| -77.34139| 20190|\n",
            "+---+--------+-----+-----------------+--------------+-----+-------------+--------+----------+------+\n",
            "only showing top 20 rows\n",
            "\n"
          ],
          "name": "stdout"
        }
      ]
    },
    {
      "cell_type": "code",
      "metadata": {
        "colab": {
          "base_uri": "https://localhost:8080/"
        },
        "id": "8CxYJIhK_Qag",
        "outputId": "06bcee5d-6bbe-4a9a-9067-05cb1c495bc1"
      },
      "source": [
        "data.columns"
      ],
      "execution_count": 56,
      "outputs": [
        {
          "output_type": "execute_result",
          "data": {
            "text/plain": [
              "['id',\n",
              " 'Product',\n",
              " 'Price',\n",
              " 'Name',\n",
              " 'City',\n",
              " 'State',\n",
              " 'Country',\n",
              " 'Latitude',\n",
              " 'Longitude',\n",
              " 'US Zip']"
            ]
          },
          "metadata": {
            "tags": []
          },
          "execution_count": 56
        }
      ]
    },
    {
      "cell_type": "markdown",
      "metadata": {
        "id": "5P7-MaXJ--ns"
      },
      "source": [
        "### **Ommiting columns**\r\n",
        "\r\n",
        "- can be useful when analysing a dataset\r\n",
        "\r\n",
        "Like in Python, this can be achieve easily using slicing "
      ]
    },
    {
      "cell_type": "code",
      "metadata": {
        "colab": {
          "base_uri": "https://localhost:8080/"
        },
        "id": "NdgmPDcZL_YN",
        "outputId": "364b7a46-9535-4891-faf0-fcd5949d1cf4"
      },
      "source": [
        "coli = data.columns[0:3]\r\n",
        "print(coli)"
      ],
      "execution_count": 82,
      "outputs": [
        {
          "output_type": "stream",
          "text": [
            "['id', 'Product', 'Price']\n"
          ],
          "name": "stdout"
        }
      ]
    },
    {
      "cell_type": "code",
      "metadata": {
        "colab": {
          "base_uri": "https://localhost:8080/"
        },
        "id": "04KtSKiBL_8O",
        "outputId": "6257b79c-60c4-4c7d-93dd-5a4e586f52bd"
      },
      "source": [
        "data.select(coli).show()\r\n"
      ],
      "execution_count": 84,
      "outputs": [
        {
          "output_type": "stream",
          "text": [
            "+---+--------+-----+\n",
            "| id| Product|Price|\n",
            "+---+--------+-----+\n",
            "|  1|Product1| 1200|\n",
            "|  2|Product1| 1200|\n",
            "|  3|Product2| 3600|\n",
            "|  4|Product1| 1200|\n",
            "|  5|Product1| 1200|\n",
            "|  6|Product1| 1200|\n",
            "|  7|Product1| 1200|\n",
            "|  8|Product1| 1200|\n",
            "|  9|Product1| 1200|\n",
            "| 10|Product1| 1200|\n",
            "| 11|Product1| 1200|\n",
            "| 12|Product1| 1200|\n",
            "| 13|Product1| 1200|\n",
            "| 14|Product1| 1200|\n",
            "| 15|Product1| 1200|\n",
            "| 16|Product1| 1200|\n",
            "| 17|Product1| 1200|\n",
            "| 18|Product1| 1200|\n",
            "| 19|Product1| 1200|\n",
            "| 20|Product1| 1200|\n",
            "+---+--------+-----+\n",
            "only showing top 20 rows\n",
            "\n"
          ],
          "name": "stdout"
        }
      ]
    },
    {
      "cell_type": "code",
      "metadata": {
        "colab": {
          "base_uri": "https://localhost:8080/"
        },
        "id": "umEwQxYm-9jR",
        "outputId": "8641931c-c928-40be-dbb9-b7a538e0ae8e"
      },
      "source": [
        "#select all columns but last one\r\n",
        "except_last = data.columns[:-1] \r\n",
        "print(except_last)\r\n"
      ],
      "execution_count": 79,
      "outputs": [
        {
          "output_type": "stream",
          "text": [
            "['id', 'Product', 'Price', 'Name', 'City', 'State', 'Country', 'Latitude', 'Longitude']\n"
          ],
          "name": "stdout"
        }
      ]
    },
    {
      "cell_type": "code",
      "metadata": {
        "colab": {
          "base_uri": "https://localhost:8080/"
        },
        "id": "zlKYnG3RACRu",
        "outputId": "12acf358-a8b5-476d-ca5f-036381cdc427"
      },
      "source": [
        "#Drop last column using drop method\r\n",
        "lastcol= data.drop(*except_last)\r\n",
        "lastcol.show()\r\n"
      ],
      "execution_count": 80,
      "outputs": [
        {
          "output_type": "stream",
          "text": [
            "+------+\n",
            "|US Zip|\n",
            "+------+\n",
            "| 64152|\n",
            "| 97103|\n",
            "| 35243|\n",
            "|  8056|\n",
            "| 61601|\n",
            "| 38237|\n",
            "| 10002|\n",
            "| 78230|\n",
            "| 83616|\n",
            "|  8075|\n",
            "| 84111|\n",
            "| 91910|\n",
            "| 77478|\n",
            "| 10007|\n",
            "| 61550|\n",
            "| 95032|\n",
            "| 10007|\n",
            "| 33130|\n",
            "| 11226|\n",
            "| 20190|\n",
            "+------+\n",
            "only showing top 20 rows\n",
            "\n"
          ],
          "name": "stdout"
        }
      ]
    },
    {
      "cell_type": "code",
      "metadata": {
        "colab": {
          "base_uri": "https://localhost:8080/"
        },
        "id": "86bH2EPuAZnC",
        "outputId": "a4973883-4dc7-44c8-af24-4f09f501ab6c"
      },
      "source": [
        "#alternatively, use select to drop last column\r\n",
        "data.select(\"US Zip\").show()\r\n"
      ],
      "execution_count": 61,
      "outputs": [
        {
          "output_type": "stream",
          "text": [
            "+------+\n",
            "|US Zip|\n",
            "+------+\n",
            "| 64152|\n",
            "| 97103|\n",
            "| 35243|\n",
            "|  8056|\n",
            "| 61601|\n",
            "| 38237|\n",
            "| 10002|\n",
            "| 78230|\n",
            "| 83616|\n",
            "|  8075|\n",
            "| 84111|\n",
            "| 91910|\n",
            "| 77478|\n",
            "| 10007|\n",
            "| 61550|\n",
            "| 95032|\n",
            "| 10007|\n",
            "| 33130|\n",
            "| 11226|\n",
            "| 20190|\n",
            "+------+\n",
            "only showing top 20 rows\n",
            "\n"
          ],
          "name": "stdout"
        }
      ]
    },
    {
      "cell_type": "code",
      "metadata": {
        "colab": {
          "base_uri": "https://localhost:8080/"
        },
        "id": "0ANSJrYxAlDI",
        "outputId": "3872e562-73c5-40e2-a451-a056771e968d"
      },
      "source": [
        "#Drop selected columns\r\n",
        "col_list = ['Name', 'City', \"US Zip\"]\r\n",
        "df= data.drop(*col_list)\r\n",
        "df.show()\r\n"
      ],
      "execution_count": 62,
      "outputs": [
        {
          "output_type": "stream",
          "text": [
            "+---+--------+-----+-----+-------------+--------+----------+\n",
            "| id| Product|Price|State|      Country|Latitude| Longitude|\n",
            "+---+--------+-----+-----+-------------+--------+----------+\n",
            "|  1|Product1| 1200|   MO|United States|  39.195| -94.68194|\n",
            "|  2|Product1| 1200|   OR|United States|46.18806|   -123.83|\n",
            "|  3|Product2| 3600|   AL|United States|33.52056|  -86.8025|\n",
            "|  4|Product1| 1200|   NJ|United States|   39.79| -75.23806|\n",
            "|  5|Product1| 1200|   IL|United States|40.69361| -89.58889|\n",
            "|  6|Product1| 1200|   TN|United States|36.34333| -88.85028|\n",
            "|  7|Product1| 1200|   NY|United States|40.71417| -74.00639|\n",
            "|  8|Product1| 1200|   TX|United States|29.42389| -98.49333|\n",
            "|  9|Product1| 1200|   ID|United States|43.69556|-116.35306|\n",
            "| 10|Product1| 1200|   NJ|United States|40.03222| -74.95778|\n",
            "| 11|Product1| 1200|   UT|United States|40.76083|-111.89028|\n",
            "| 12|Product1| 1200|   CA|United States|   32.64|-117.08333|\n",
            "| 13|Product1| 1200|   TX|United States|29.61944| -95.63472|\n",
            "| 14|Product1| 1200|   NY|United States|40.71417| -74.00639|\n",
            "| 15|Product1| 1200|   IL|United States|40.61278| -89.45917|\n",
            "| 16|Product1| 1200|   CA|United States|37.22667|-121.97361|\n",
            "| 17|Product1| 1200|   NY|United States|40.71417| -74.00639|\n",
            "| 18|Product1| 1200|   FL|United States|25.77389| -80.19389|\n",
            "| 19|Product1| 1200|   NY|United States|   40.65|    -73.95|\n",
            "| 20|Product1| 1200|   VA|United States|38.96861| -77.34139|\n",
            "+---+--------+-----+-----+-------------+--------+----------+\n",
            "only showing top 20 rows\n",
            "\n"
          ],
          "name": "stdout"
        }
      ]
    },
    {
      "cell_type": "code",
      "metadata": {
        "colab": {
          "base_uri": "https://localhost:8080/"
        },
        "id": "g_VhC-LhJimw",
        "outputId": "cc8290a5-bcec-49ca-e1a8-e73fcec9d882"
      },
      "source": [
        "#Alternatively, use select to filter out uneeded columns:\r\n",
        "data2 = data.select(['id', 'Product', 'Price', 'City', 'State', 'Country', 'Latitude', 'Longitude'])\r\n",
        "data2.show()"
      ],
      "execution_count": 78,
      "outputs": [
        {
          "output_type": "stream",
          "text": [
            "+---+--------+-----+--------------+-----+-------------+--------+----------+\n",
            "| id| Product|Price|          City|State|      Country|Latitude| Longitude|\n",
            "+---+--------+-----+--------------+-----+-------------+--------+----------+\n",
            "|  1|Product1| 1200|     Parkville|   MO|United States|  39.195| -94.68194|\n",
            "|  2|Product1| 1200|       Astoria|   OR|United States|46.18806|   -123.83|\n",
            "|  3|Product2| 3600|Cahaba Heights|   AL|United States|33.52056|  -86.8025|\n",
            "|  4|Product1| 1200|     Mickleton|   NJ|United States|   39.79| -75.23806|\n",
            "|  5|Product1| 1200|        Peoria|   IL|United States|40.69361| -89.58889|\n",
            "|  6|Product1| 1200|        Martin|   TN|United States|36.34333| -88.85028|\n",
            "|  7|Product1| 1200|      New York|   NY|United States|40.71417| -74.00639|\n",
            "|  8|Product1| 1200|  Shavano Park|   TX|United States|29.42389| -98.49333|\n",
            "|  9|Product1| 1200|         Eagle|   ID|United States|43.69556|-116.35306|\n",
            "| 10|Product1| 1200|     Riverside|   NJ|United States|40.03222| -74.95778|\n",
            "| 11|Product1| 1200|Salt Lake City|   UT|United States|40.76083|-111.89028|\n",
            "| 12|Product1| 1200|   Chula Vista|   CA|United States|   32.64|-117.08333|\n",
            "| 13|Product1| 1200|    Sugar Land|   TX|United States|29.61944| -95.63472|\n",
            "| 14|Product1| 1200|      New York|   NY|United States|40.71417| -74.00639|\n",
            "| 15|Product1| 1200|        Morton|   IL|United States|40.61278| -89.45917|\n",
            "| 16|Product1| 1200|     Los Gatos|   CA|United States|37.22667|-121.97361|\n",
            "| 17|Product1| 1200|      New York|   NY|United States|40.71417| -74.00639|\n",
            "| 18|Product1| 1200|         Miami|   FL|United States|25.77389| -80.19389|\n",
            "| 19|Product1| 1200|      Brooklyn|   NY|United States|   40.65|    -73.95|\n",
            "| 20|Product1| 1200|        Reston|   VA|United States|38.96861| -77.34139|\n",
            "+---+--------+-----+--------------+-----+-------------+--------+----------+\n",
            "only showing top 20 rows\n",
            "\n"
          ],
          "name": "stdout"
        }
      ]
    },
    {
      "cell_type": "code",
      "metadata": {
        "colab": {
          "base_uri": "https://localhost:8080/"
        },
        "id": "81TNQw4Ie1I7",
        "outputId": "70b71099-1ae8-4f93-d5dc-425ed7851d06"
      },
      "source": [
        "\r\n",
        "df.printSchema()"
      ],
      "execution_count": 63,
      "outputs": [
        {
          "output_type": "stream",
          "text": [
            "root\n",
            " |-- id: integer (nullable = true)\n",
            " |-- Product: string (nullable = true)\n",
            " |-- Price: integer (nullable = true)\n",
            " |-- State: string (nullable = true)\n",
            " |-- Country: string (nullable = true)\n",
            " |-- Latitude: double (nullable = true)\n",
            " |-- Longitude: double (nullable = true)\n",
            "\n"
          ],
          "name": "stdout"
        }
      ]
    },
    {
      "cell_type": "markdown",
      "metadata": {
        "id": "jIThh6YSBIJg"
      },
      "source": [
        "### **Changing the fields data type of a dataframe**\r\n",
        "\r\n",
        " - can be easily done when creating the dataframe like this:"
      ]
    },
    {
      "cell_type": "code",
      "metadata": {
        "id": "ahv4ScWpEta4"
      },
      "source": [
        "#Define a new schema in order to change the types of fields\r\n",
        "from pyspark.sql.types import *\r\n",
        "newschema = StructType([\r\n",
        "                        StructField('id', IntegerType()),\r\n",
        "                        StructField('Product', StringType()),\r\n",
        "                        StructField('Price', IntegerType()),\r\n",
        "                        StructField(\"State\", StringType()),\r\n",
        "                        StructField('Country', StringType()),\r\n",
        "                        StructField(\"Latitude\", FloatType()),\r\n",
        "                        StructField('Longitude', FloatType()),\r\n",
        "])\r\n",
        "  "
      ],
      "execution_count": 67,
      "outputs": []
    },
    {
      "cell_type": "code",
      "metadata": {
        "colab": {
          "base_uri": "https://localhost:8080/"
        },
        "id": "H-Wd6hnVfKwy",
        "outputId": "8580cb75-f17e-4441-9d49-bc303ce9b569"
      },
      "source": [
        "df1 = spark.read.csv('datacleaned.csv', header=True, schema=newschema)\r\n",
        "df1.show()"
      ],
      "execution_count": 68,
      "outputs": [
        {
          "output_type": "stream",
          "text": [
            "+---+--------+-----+-----+-------------+--------+----------+\n",
            "| id| Product|Price|State|      Country|Latitude| Longitude|\n",
            "+---+--------+-----+-----+-------------+--------+----------+\n",
            "|  1|Product1| 1200|   MO|United States|  39.195| -94.68194|\n",
            "|  2|Product1| 1200|   OR|United States|46.18806|   -123.83|\n",
            "|  3|Product2| 3600|   AL|United States|33.52056|  -86.8025|\n",
            "|  4|Product1| 1200|   NJ|United States|   39.79| -75.23806|\n",
            "|  5|Product1| 1200|   IL|United States|40.69361| -89.58889|\n",
            "|  6|Product1| 1200|   TN|United States|36.34333| -88.85028|\n",
            "|  7|Product1| 1200|   NY|United States|40.71417| -74.00639|\n",
            "|  8|Product1| 1200|   TX|United States|29.42389| -98.49333|\n",
            "|  9|Product1| 1200|   ID|United States|43.69556|-116.35306|\n",
            "| 10|Product1| 1200|   NJ|United States|40.03222| -74.95778|\n",
            "| 11|Product1| 1200|   UT|United States|40.76083|-111.89028|\n",
            "| 12|Product1| 1200|   CA|United States|   32.64|-117.08333|\n",
            "| 13|Product1| 1200|   TX|United States|29.61944| -95.63472|\n",
            "| 14|Product1| 1200|   NY|United States|40.71417| -74.00639|\n",
            "| 15|Product1| 1200|   IL|United States|40.61278| -89.45917|\n",
            "| 16|Product1| 1200|   CA|United States|37.22667|-121.97361|\n",
            "| 17|Product1| 1200|   NY|United States|40.71417| -74.00639|\n",
            "| 18|Product1| 1200|   FL|United States|25.77389| -80.19389|\n",
            "| 19|Product1| 1200|   NY|United States|   40.65|    -73.95|\n",
            "| 20|Product1| 1200|   VA|United States|38.96861| -77.34139|\n",
            "+---+--------+-----+-----+-------------+--------+----------+\n",
            "only showing top 20 rows\n",
            "\n"
          ],
          "name": "stdout"
        }
      ]
    },
    {
      "cell_type": "code",
      "metadata": {
        "id": "YI0yz764cGR4",
        "colab": {
          "base_uri": "https://localhost:8080/"
        },
        "outputId": "af0d4a3e-e1b0-4b31-bc7e-f85400e5cf4f"
      },
      "source": [
        "#check data types again\r\n",
        "df1.dtypes"
      ],
      "execution_count": 69,
      "outputs": [
        {
          "output_type": "execute_result",
          "data": {
            "text/plain": [
              "[('id', 'int'),\n",
              " ('Product', 'string'),\n",
              " ('Price', 'int'),\n",
              " ('State', 'string'),\n",
              " ('Country', 'string'),\n",
              " ('Latitude', 'float'),\n",
              " ('Longitude', 'float')]"
            ]
          },
          "metadata": {
            "tags": []
          },
          "execution_count": 69
        }
      ]
    },
    {
      "cell_type": "markdown",
      "metadata": {
        "id": "Qcvzg7crGRaa"
      },
      "source": [
        "### **Alternatively**\r\n",
        "\r\n",
        "it can be achieved by changing the type for each column like this:\r\n",
        "\r\n",
        "df1 = df.withColumn(\"ColNew\", df(\"Col\").cast(\"DateType\")).drop(\"Col\")"
      ]
    },
    {
      "cell_type": "markdown",
      "metadata": {
        "id": "Oi_Db2SdICOL"
      },
      "source": [
        "### **Summary statistics** \r\n",
        "\r\n",
        "similar to describe method in Python  "
      ]
    },
    {
      "cell_type": "code",
      "metadata": {
        "id": "CYq1NaZwKYbM",
        "colab": {
          "base_uri": "https://localhost:8080/"
        },
        "outputId": "c2a05fed-6a3b-4b27-a0e2-506504849bab"
      },
      "source": [
        "\r\n",
        "df.describe().show()"
      ],
      "execution_count": 77,
      "outputs": [
        {
          "output_type": "stream",
          "text": [
            "+-------+-----------------+--------+------------------+------+-------------+------------------+------------------+\n",
            "|summary|               id| Product|             Price| State|      Country|          Latitude|         Longitude|\n",
            "+-------+-----------------+--------+------------------+------+-------------+------------------+------------------+\n",
            "|  count|              998|     998|               998|   989|          998|               998|               998|\n",
            "|   mean|            499.5|    null|1633.7675350701402|  null|         null|39.015704860721506|-41.33782005571143|\n",
            "| stddev|288.2420857543187|    null|1156.0347239235023|  null|         null|19.508572435045227| 67.38947865548309|\n",
            "|    min|                1|Product1|               250|    AK|    Argentina|           -41.465|        -159.48528|\n",
            "|    max|              998|Product3|             13000|Zurich|United States|          64.83778|       174.7666667|\n",
            "+-------+-----------------+--------+------------------+------+-------------+------------------+------------------+\n",
            "\n"
          ],
          "name": "stdout"
        }
      ]
    },
    {
      "cell_type": "markdown",
      "metadata": {
        "id": "OqwegoeDS9kR"
      },
      "source": [
        "#### **Dropna in Pyspark** \r\n",
        "\r\n",
        "is similar to Python \r\n",
        "\r\n",
        "it allows removing the corresponding records(rows) or fields(columns) from a dataset is the easiest way to deal with missing data\r\n",
        "\r\n",
        "This data is pretty cleaned so this is only for demonstration \r\n"
      ]
    },
    {
      "cell_type": "code",
      "metadata": {
        "id": "pZiegbHXS8qH",
        "colab": {
          "base_uri": "https://localhost:8080/"
        },
        "outputId": "98cdf081-ad2a-400f-eaca-256671c9e9f7"
      },
      "source": [
        "#drop all rows from the subset of fields\r\n",
        "df.dropna(subset=('Price','Latitude','Longitude')).show()"
      ],
      "execution_count": 76,
      "outputs": [
        {
          "output_type": "stream",
          "text": [
            "+---+--------+-----+-----+-------------+--------+----------+\n",
            "| id| Product|Price|State|      Country|Latitude| Longitude|\n",
            "+---+--------+-----+-----+-------------+--------+----------+\n",
            "|  1|Product1| 1200|   MO|United States|  39.195| -94.68194|\n",
            "|  2|Product1| 1200|   OR|United States|46.18806|   -123.83|\n",
            "|  3|Product2| 3600|   AL|United States|33.52056|  -86.8025|\n",
            "|  4|Product1| 1200|   NJ|United States|   39.79| -75.23806|\n",
            "|  5|Product1| 1200|   IL|United States|40.69361| -89.58889|\n",
            "|  6|Product1| 1200|   TN|United States|36.34333| -88.85028|\n",
            "|  7|Product1| 1200|   NY|United States|40.71417| -74.00639|\n",
            "|  8|Product1| 1200|   TX|United States|29.42389| -98.49333|\n",
            "|  9|Product1| 1200|   ID|United States|43.69556|-116.35306|\n",
            "| 10|Product1| 1200|   NJ|United States|40.03222| -74.95778|\n",
            "| 11|Product1| 1200|   UT|United States|40.76083|-111.89028|\n",
            "| 12|Product1| 1200|   CA|United States|   32.64|-117.08333|\n",
            "| 13|Product1| 1200|   TX|United States|29.61944| -95.63472|\n",
            "| 14|Product1| 1200|   NY|United States|40.71417| -74.00639|\n",
            "| 15|Product1| 1200|   IL|United States|40.61278| -89.45917|\n",
            "| 16|Product1| 1200|   CA|United States|37.22667|-121.97361|\n",
            "| 17|Product1| 1200|   NY|United States|40.71417| -74.00639|\n",
            "| 18|Product1| 1200|   FL|United States|25.77389| -80.19389|\n",
            "| 19|Product1| 1200|   NY|United States|   40.65|    -73.95|\n",
            "| 20|Product1| 1200|   VA|United States|38.96861| -77.34139|\n",
            "+---+--------+-----+-----+-------------+--------+----------+\n",
            "only showing top 20 rows\n",
            "\n"
          ],
          "name": "stdout"
        }
      ]
    },
    {
      "cell_type": "markdown",
      "metadata": {
        "id": "uHQXWwYif_AH"
      },
      "source": [
        "#### **dropna method supports additional parameters like:** \r\n",
        "\r\n",
        "that can be useful when dealing with missing values"
      ]
    },
    {
      "cell_type": "code",
      "metadata": {
        "id": "kjF_ICUqZGye",
        "colab": {
          "base_uri": "https://localhost:8080/"
        },
        "outputId": "49498699-86fc-4432-b7a7-46f9ed582ffd"
      },
      "source": [
        "# drop rows that have less than thresh non-Null values\r\n",
        "df.dropna(thresh=3, subset=('Price','Latitude','Longitude')).show()\r\n"
      ],
      "execution_count": 75,
      "outputs": [
        {
          "output_type": "stream",
          "text": [
            "+---+--------+-----+-----+-------------+--------+----------+\n",
            "| id| Product|Price|State|      Country|Latitude| Longitude|\n",
            "+---+--------+-----+-----+-------------+--------+----------+\n",
            "|  1|Product1| 1200|   MO|United States|  39.195| -94.68194|\n",
            "|  2|Product1| 1200|   OR|United States|46.18806|   -123.83|\n",
            "|  3|Product2| 3600|   AL|United States|33.52056|  -86.8025|\n",
            "|  4|Product1| 1200|   NJ|United States|   39.79| -75.23806|\n",
            "|  5|Product1| 1200|   IL|United States|40.69361| -89.58889|\n",
            "|  6|Product1| 1200|   TN|United States|36.34333| -88.85028|\n",
            "|  7|Product1| 1200|   NY|United States|40.71417| -74.00639|\n",
            "|  8|Product1| 1200|   TX|United States|29.42389| -98.49333|\n",
            "|  9|Product1| 1200|   ID|United States|43.69556|-116.35306|\n",
            "| 10|Product1| 1200|   NJ|United States|40.03222| -74.95778|\n",
            "| 11|Product1| 1200|   UT|United States|40.76083|-111.89028|\n",
            "| 12|Product1| 1200|   CA|United States|   32.64|-117.08333|\n",
            "| 13|Product1| 1200|   TX|United States|29.61944| -95.63472|\n",
            "| 14|Product1| 1200|   NY|United States|40.71417| -74.00639|\n",
            "| 15|Product1| 1200|   IL|United States|40.61278| -89.45917|\n",
            "| 16|Product1| 1200|   CA|United States|37.22667|-121.97361|\n",
            "| 17|Product1| 1200|   NY|United States|40.71417| -74.00639|\n",
            "| 18|Product1| 1200|   FL|United States|25.77389| -80.19389|\n",
            "| 19|Product1| 1200|   NY|United States|   40.65|    -73.95|\n",
            "| 20|Product1| 1200|   VA|United States|38.96861| -77.34139|\n",
            "+---+--------+-----+-----+-------------+--------+----------+\n",
            "only showing top 20 rows\n",
            "\n"
          ],
          "name": "stdout"
        }
      ]
    },
    {
      "cell_type": "code",
      "metadata": {
        "colab": {
          "base_uri": "https://localhost:8080/"
        },
        "id": "_HXXyElRfzBa",
        "outputId": "48aad834-b54e-485b-eb10-9de5cda4281f"
      },
      "source": [
        "#drop only rows that have all fields (cols) Null\r\n",
        "df.dropna(how='any').show()"
      ],
      "execution_count": 19,
      "outputs": [
        {
          "output_type": "stream",
          "text": [
            "+---+--------+-----+-----+-------------+--------+----------+\n",
            "| id| Product|Price|State|      Country|Latitude| Longitude|\n",
            "+---+--------+-----+-----+-------------+--------+----------+\n",
            "|  1|Product1| 1200|   MO|United States|  39.195| -94.68194|\n",
            "|  2|Product1| 1200|   OR|United States|46.18806|   -123.83|\n",
            "|  3|Product2| 3600|   AL|United States|33.52056|  -86.8025|\n",
            "|  4|Product1| 1200|   NJ|United States|   39.79| -75.23806|\n",
            "|  5|Product1| 1200|   IL|United States|40.69361| -89.58889|\n",
            "|  6|Product1| 1200|   TN|United States|36.34333| -88.85028|\n",
            "|  7|Product1| 1200|   NY|United States|40.71417| -74.00639|\n",
            "|  8|Product1| 1200|   TX|United States|29.42389| -98.49333|\n",
            "|  9|Product1| 1200|   ID|United States|43.69556|-116.35306|\n",
            "| 10|Product1| 1200|   NJ|United States|40.03222| -74.95778|\n",
            "| 11|Product1| 1200|   UT|United States|40.76083|-111.89028|\n",
            "| 12|Product1| 1200|   CA|United States|   32.64|-117.08333|\n",
            "| 13|Product1| 1200|   TX|United States|29.61944| -95.63472|\n",
            "| 14|Product1| 1200|   NY|United States|40.71417| -74.00639|\n",
            "| 15|Product1| 1200|   IL|United States|40.61278| -89.45917|\n",
            "| 16|Product1| 1200|   CA|United States|37.22667|-121.97361|\n",
            "| 17|Product1| 1200|   NY|United States|40.71417| -74.00639|\n",
            "| 18|Product1| 1200|   FL|United States|25.77389| -80.19389|\n",
            "| 19|Product1| 1200|   NY|United States|   40.65|    -73.95|\n",
            "| 20|Product1| 1200|   VA|United States|38.96861| -77.34139|\n",
            "+---+--------+-----+-----+-------------+--------+----------+\n",
            "only showing top 20 rows\n",
            "\n"
          ],
          "name": "stdout"
        }
      ]
    },
    {
      "cell_type": "code",
      "metadata": {
        "colab": {
          "base_uri": "https://localhost:8080/"
        },
        "id": "RuP9sSDQi2AD",
        "outputId": "c54489d7-3d88-4464-ecad-869bcb3e2c0d"
      },
      "source": [
        "#display first 5 rows\r\n",
        "df.head(5)"
      ],
      "execution_count": 20,
      "outputs": [
        {
          "output_type": "execute_result",
          "data": {
            "text/plain": [
              "[Row(id=1, Product='Product1', Price='1200', State='MO', Country='United States', Latitude=39.19499969482422, Longitude=-94.68193817138672),\n",
              " Row(id=2, Product='Product1', Price='1200', State='OR', Country='United States', Latitude=46.18806076049805, Longitude=-123.83000183105469),\n",
              " Row(id=3, Product='Product2', Price='3600', State='AL', Country='United States', Latitude=33.52056121826172, Longitude=-86.80249786376953),\n",
              " Row(id=4, Product='Product1', Price='1200', State='NJ', Country='United States', Latitude=39.790000915527344, Longitude=-75.2380599975586),\n",
              " Row(id=5, Product='Product1', Price='1200', State='IL', Country='United States', Latitude=40.69361114501953, Longitude=-89.5888900756836)]"
            ]
          },
          "metadata": {
            "tags": []
          },
          "execution_count": 20
        }
      ]
    },
    {
      "cell_type": "code",
      "metadata": {
        "colab": {
          "base_uri": "https://localhost:8080/"
        },
        "id": "-sbaFUZsjACH",
        "outputId": "a02804d4-4d29-4aac-f57c-a967c031cfbe"
      },
      "source": [
        "#df.shape \r\n",
        "print((df.count(), len(df.columns)))"
      ],
      "execution_count": 22,
      "outputs": [
        {
          "output_type": "stream",
          "text": [
            "(998, 7)\n"
          ],
          "name": "stdout"
        }
      ]
    },
    {
      "cell_type": "code",
      "metadata": {
        "colab": {
          "base_uri": "https://localhost:8080/"
        },
        "id": "38X2qAz0k_2o",
        "outputId": "5e6d0860-15e3-4f8f-95db-1442add4f7a4"
      },
      "source": [
        "df.count()"
      ],
      "execution_count": 26,
      "outputs": [
        {
          "output_type": "execute_result",
          "data": {
            "text/plain": [
              "998"
            ]
          },
          "metadata": {
            "tags": []
          },
          "execution_count": 26
        }
      ]
    },
    {
      "cell_type": "code",
      "metadata": {
        "colab": {
          "base_uri": "https://localhost:8080/"
        },
        "id": "KdejY_yoj2Nc",
        "outputId": "2dab5725-0c91-4b20-89fc-858f1a554ae3"
      },
      "source": [
        "#there are no duplicate records\r\n",
        "df.distinct().count()"
      ],
      "execution_count": 27,
      "outputs": [
        {
          "output_type": "execute_result",
          "data": {
            "text/plain": [
              "998"
            ]
          },
          "metadata": {
            "tags": []
          },
          "execution_count": 27
        }
      ]
    },
    {
      "cell_type": "markdown",
      "metadata": {
        "id": "PHQrow7jUD-i"
      },
      "source": [
        "### **Create a data frame**\r\n"
      ]
    },
    {
      "cell_type": "code",
      "metadata": {
        "colab": {
          "base_uri": "https://localhost:8080/"
        },
        "id": "cmCbSb8MNSWI",
        "outputId": "fcfb93b7-aa18-41ad-dfa8-5725cc2b1868"
      },
      "source": [
        "# Create DF \r\n",
        "newDF = spark.createDataFrame([\r\n",
        "                               (1, \"a\", \"4\", 0), \r\n",
        "                                (2, \"b\", \"10\", 3), \r\n",
        "                                (7, \"b\", \"4\", 1), \r\n",
        "                                (7, \"d\", \"4\", 9)],\r\n",
        "                                (\"id\", \"x1\", \"x2\", \"y\"))\r\n",
        "newDF.show()\r\n"
      ],
      "execution_count": 89,
      "outputs": [
        {
          "output_type": "stream",
          "text": [
            "+---+---+---+---+\n",
            "| id| x1| x2|  y|\n",
            "+---+---+---+---+\n",
            "|  1|  a|  4|  0|\n",
            "|  2|  b| 10|  3|\n",
            "|  7|  b|  4|  1|\n",
            "|  7|  d|  4|  9|\n",
            "+---+---+---+---+\n",
            "\n"
          ],
          "name": "stdout"
        }
      ]
    },
    {
      "cell_type": "markdown",
      "metadata": {
        "id": "MyfqFOAjULXd"
      },
      "source": [
        "### **Slicing a data frame in PySpark using indexing is possible**\r\n",
        "\r\n",
        "See: https://stackoverflow.com/a/66610720/4375912\r\n",
        "\r\n",
        "\r\n",
        "In machine learning data processing often involves filtering out the unneeded columns. This part of the ML data processing comes after sourcing the data and wrangling the data."
      ]
    },
    {
      "cell_type": "code",
      "metadata": {
        "colab": {
          "base_uri": "https://localhost:8080/"
        },
        "id": "6w6cI_hqOKMv",
        "outputId": "e7d9d1bc-a847-4b7a-df7d-d580c1d784cf"
      },
      "source": [
        "slice = newDF.columns[1:3]\r\n",
        "newDF.select(slice).show()\r\n"
      ],
      "execution_count": 94,
      "outputs": [
        {
          "output_type": "stream",
          "text": [
            "+---+---+\n",
            "| x1| x2|\n",
            "+---+---+\n",
            "|  a|  4|\n",
            "|  b| 10|\n",
            "|  b|  4|\n",
            "|  d|  4|\n",
            "+---+---+\n",
            "\n"
          ],
          "name": "stdout"
        }
      ]
    },
    {
      "cell_type": "code",
      "metadata": {
        "colab": {
          "base_uri": "https://localhost:8080/"
        },
        "id": "ylJWIYUSOVKM",
        "outputId": "8516a20f-4255-4362-f5f8-85103359e25e"
      },
      "source": [
        "features = newDF.columns[:-1]\r\n",
        "newDF.select(features).show()"
      ],
      "execution_count": 95,
      "outputs": [
        {
          "output_type": "stream",
          "text": [
            "+---+---+---+\n",
            "| id| x1| x2|\n",
            "+---+---+---+\n",
            "|  1|  a|  4|\n",
            "|  2|  b| 10|\n",
            "|  7|  b|  4|\n",
            "|  7|  d|  4|\n",
            "+---+---+---+\n",
            "\n"
          ],
          "name": "stdout"
        }
      ]
    },
    {
      "cell_type": "code",
      "metadata": {
        "colab": {
          "base_uri": "https://localhost:8080/"
        },
        "id": "8Xajbj88OzUn",
        "outputId": "31d88350-a609-4216-c738-e82c93b96408"
      },
      "source": [
        "last_col= newDF.drop(*features)\r\n",
        "last_col.show()"
      ],
      "execution_count": 96,
      "outputs": [
        {
          "output_type": "stream",
          "text": [
            "+---+\n",
            "|  y|\n",
            "+---+\n",
            "|  0|\n",
            "|  3|\n",
            "|  1|\n",
            "|  9|\n",
            "+---+\n",
            "\n"
          ],
          "name": "stdout"
        }
      ]
    },
    {
      "cell_type": "markdown",
      "metadata": {
        "id": "GWLc-pKEWkUp"
      },
      "source": [
        "### **Imputing missing values in Spark using Spark ML**\r\n",
        "\r\n",
        "Similar to Python, using the **Imputer** class makes cleansing job easier \r\n",
        "\r\n",
        "(details next)"
      ]
    },
    {
      "cell_type": "code",
      "metadata": {
        "id": "ZzYVDHJiW3k3"
      },
      "source": [
        "from pyspark.ml.feature import Imputer\r\n",
        "imputer = Imputer(strategy='mean', inputCols=['Col'], outputCols=\r\n",
        "['ColImputed'])\r\n",
        "imputer_model = imputer.fit(data)\r\n",
        "data = imputer_model.transform(data)"
      ],
      "execution_count": null,
      "outputs": []
    }
  ]
}